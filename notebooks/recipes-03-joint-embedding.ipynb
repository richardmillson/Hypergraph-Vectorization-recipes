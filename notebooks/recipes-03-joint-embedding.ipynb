{
 "cells": [
  {
   "cell_type": "markdown",
   "id": "44ca61e4-9152-4d97-8c0b-a7c0599c263c",
   "metadata": {},
   "source": [
    "# Hypergraph exploration - recipes example\n",
    "\n",
    "The goal of this notebook is to use the tools in the Tutte Institute [``vectorizers``](https://github.com/TutteInstitute/vectorizers) and [``thisnotthat``](https://github.com/TutteInstitute/thisnotthat) libraries to construct hypergragh embeddings. We will jointly embed vertices and hyperedges in the same space and use this common space to guide hypergraph exploration."
   ]
  },
  {
   "cell_type": "markdown",
   "id": "3a0384ad-6785-44ba-8be9-2532ebd9cfc3",
   "metadata": {},
   "source": [
    "We will make use of a recipe dataset. After filtering out recipes having two ingredients or less (see data-setup), the data consists of 39,559 recipes (hyperedges) and 6,714 ingredients (vertices). The largest recipe has 65 ingredients (must be good!). Each recipe is assigned to a country (edge label), with 20 countries total. The data and some work done with it can be found here:\n",
    "\n",
    "* https://arxiv.org/pdf/1910.09943.pdf\n",
    "* https://www.cs.cornell.edu/~arb/data/cat-edge-Cooking/"
   ]
  },
  {
   "cell_type": "markdown",
   "id": "cb3bfb81-3427-4e3b-ab10-6c6eb0f64d01",
   "metadata": {
    "tags": []
   },
   "source": [
    "### Setup\n",
    "\n",
    "To create the environment:\n",
    "\n",
    "* mamba env create -f hypergraphs-simple.yml\n",
    "\n",
    "or\n",
    "\n",
    "* conda create -n hypergraphs-simple numba datashader jupyter ipykernel\n",
    "* pip install thisnotthat seaborn"
   ]
  },
  {
   "cell_type": "code",
   "execution_count": null,
   "id": "4acd4c8d-5799-48d0-93ec-8d2ffdb15f0c",
   "metadata": {},
   "outputs": [],
   "source": [
    "import thisnotthat as tnt\n",
    "import panel as pn\n",
    "\n",
    "import numpy as np\n",
    "import pandas as pd\n",
    "import matplotlib\n",
    "import seaborn as sns\n",
    "import csv"
   ]
  },
  {
   "cell_type": "code",
   "execution_count": null,
   "id": "98c21936",
   "metadata": {},
   "outputs": [],
   "source": [
    "import scipy.sparse\n",
    "import vectorizers\n",
    "import vectorizers.transformers\n",
    "import umap\n",
    "from scipy.sparse import vstack\n",
    "import warnings\n",
    "      \n",
    "warnings.simplefilter(\"ignore\")\n",
    "sns.set()"
   ]
  },
  {
   "cell_type": "markdown",
   "id": "03a29962-dc54-4c3e-9eec-5e6434e22517",
   "metadata": {
    "tags": []
   },
   "source": [
    "# Data preparation\n",
    "\n",
    "We will make use of the recipe dataset. It consists of 39,774 recipes (hyperedges) that are sets of vertices (6,714 ingredients total). The largest recipe has 65 ingredients (must be good!). Each recipe is assigned to a country (edge label), 20 countries total. The data and some work done with it can be found here:\n",
    "\n",
    "This function \n",
    "* reads the data\n",
    "* keeps only the recipes containing at least 3 ingredients (after this pruning we are left with 6,714 ingredients and 39,559 recipes)\n",
    "* chooses a country color mapping that respects countries' proximities, or continent - nearby countries are assigned to similar colors. This is to help with the eye-ball evaluation of the visualization and make it more pleasant."
   ]
  },
  {
   "cell_type": "code",
   "execution_count": null,
   "id": "1202ff63-68ae-4106-8d50-1bbc553a0abd",
   "metadata": {},
   "outputs": [],
   "source": [
    "data_folder = '../data/cat-edge-Cooking/'"
   ]
  },
  {
   "cell_type": "code",
   "execution_count": null,
   "id": "506f6e2b-b440-4350-99fa-0ce653c1e2c3",
   "metadata": {},
   "outputs": [],
   "source": [
    "def read_format_recipes(recipe_min_size=3, data_folder=data_folder):\n",
    "    ingredients_id = pd.read_csv(f'{data_folder}node-labels.txt', sep='\\t', header=None)\n",
    "    ingredients_id.index = [x+1 for x in ingredients_id.index]\n",
    "    ingredients_id.columns = ['Ingredient']\n",
    "    \n",
    "    recipes_with_id = []\n",
    "    with open(f'{data_folder}hyperedges.txt', newline = '') as hyperedges:\n",
    "        hyperedge_reader = csv.reader(hyperedges, delimiter='\\t')\n",
    "        for hyperedge in hyperedge_reader:\n",
    "            recipes_with_id.append(hyperedge)\n",
    "            \n",
    "    recipes_all = [[ingredients_id.loc[int(i)]['Ingredient'] for i in x] for x in recipes_with_id]\n",
    "    \n",
    "    # Keep recipes with 3 ingredients and more\n",
    "    keep_recipes = np.where(np.array([len(x) for x in recipes_all])>=recipe_min_size)[0]\n",
    "    recipes = [recipes_all[i] for i in keep_recipes]\n",
    "    \n",
    "    recipes_label_id_all = pd.read_csv(f'{data_folder}hyperedge-labels.txt', sep='\\t', header=None)\n",
    "    recipes_label_id_all.columns = ['label']\n",
    "    recipes_label_id = recipes_label_id_all.iloc[keep_recipes].reset_index()\n",
    "\n",
    "    label_name = pd.read_csv(f'{data_folder}hyperedge-label-identities.txt', sep='\\t', header=None)\n",
    "    label_name.columns = ['country']\n",
    "    label_name.index = [x+1 for x in label_name.index]\n",
    "    \n",
    "    grps_tmp = {\n",
    "        'asian' : ('chinese', 'filipino', 'japanese','korean', 'thai', 'vietnamese'),\n",
    "        'american' : ('brazilian', 'mexican', 'southern_us'),\n",
    "        'english' : ('british', 'irish'),\n",
    "        'islands' : ('cajun_creole', 'jamaican'),\n",
    "        'europe' : ('french', 'italian', 'spanish'),\n",
    "        'others' : ('greek', 'indian', 'moroccan', 'russian')\n",
    "    }\n",
    "\n",
    "    grps = {key:[key+'.'+x for x in value] for key, value in grps_tmp.items()}\n",
    "\n",
    "\n",
    "    color_key = {}\n",
    "    for l, c in zip(grps['asian'], sns.color_palette(\"Blues\", 6)[0:]):\n",
    "        color_key[l] = matplotlib.colors.rgb2hex(c)\n",
    "    for l, c in zip(grps['american'], sns.color_palette(\"Purples\", 4)[1:]):\n",
    "        color_key[l] = matplotlib.colors.rgb2hex(c)\n",
    "    for l, c in zip(grps['others'], sns.color_palette(\"YlOrRd\", 4)):\n",
    "        color_key[l] = matplotlib.colors.rgb2hex(c)\n",
    "    for l, c in zip(grps['europe'], sns.color_palette(\"light:teal\", 4)[1:]):\n",
    "        color_key[l] = matplotlib.colors.rgb2hex(c)\n",
    "    for l, c in zip(grps['islands'], sns.color_palette(\"light:#660033\", 4)[1:3]):\n",
    "        color_key[l] = matplotlib.colors.rgb2hex(c)\n",
    "    for l, c in zip(grps['english'], sns.color_palette(\"YlGn\", 4)[1:]):\n",
    "        color_key[l] = matplotlib.colors.rgb2hex(c)\n",
    "    color_key[\"ingredient\"] = \"#777777bb\"\n",
    "    \n",
    "    new_names = []\n",
    "    for key, value in grps.items():\n",
    "        new_names = new_names + value\n",
    "\n",
    "    label_name['new_label'] = [new_name for x in label_name.country for new_name in new_names if x in new_name]\n",
    "    \n",
    "    return(recipes, recipes_label_id, ingredients_id, label_name, color_key)"
   ]
  },
  {
   "cell_type": "code",
   "execution_count": null,
   "id": "914e4b26-b86b-46c1-ac39-3e826bf78160",
   "metadata": {},
   "outputs": [],
   "source": [
    "# execfile('./00-recipes-setup.py')\n",
    "recipes, recipes_label_id, ingredients_id, label_name, color_key = read_format_recipes()\n",
    "recipes_label = [label_name.loc[i]['new_label'] for i in recipes_label_id.label]"
   ]
  },
  {
   "cell_type": "markdown",
   "id": "515a766a",
   "metadata": {},
   "source": [
    "# Build vertex (ingredient) vectors\n",
    "\n",
    "We first build a vector representation of ingredients based on co-occurrences of vertices in the same hyperedges. Little hack here: we make our own. We use our own as the current vectorizer library has a cooccurrence vectorizer based on ordered hyperedges and so has concepts such as \"appears before\" or \"appears after\" that we wish to avoid.\n",
    "\n",
    "The vector representations of the vertices are rows of the weighted adjacency matrix of the hypergraph's 2-section.\n",
    "From the incidence matrix $H$ (number of vertices x number of hyperedges), this can be obtained via $V_{vectors} = H^TH - D_e$ where $D_e$ is the diagonal matrix that contains the hyperedge sizes. From experiments, we obtain better results by row and column normalizing and reducing the dimensionality of this vertex representation using SVD. Experiments on documents, also show that we get improvements by taking the $4^{th}$ root entry-wise of the normalized matrices before reducing dimensionality. We do the same here because it works well, but it has not been tested on hypergraphs."
   ]
  },
  {
   "cell_type": "code",
   "execution_count": null,
   "id": "709d5fbb-2897-4e97-9e4e-82b1621df31f",
   "metadata": {},
   "outputs": [],
   "source": [
    "def vertexCooccurrenceVectorizer(hyperedges):\n",
    "    vertexCooccurrence_vectorizer = vectorizers.TokenCooccurrenceVectorizer().fit(hyperedges)\n",
    "    \n",
    "    incidence_vectorizer = vectorizers.NgramVectorizer(\n",
    "        token_dictionary=vertexCooccurrence_vectorizer.token_label_dictionary_\n",
    "    ).fit(hyperedges)\n",
    "\n",
    "    H = incidence_vectorizer.transform(hyperedges)\n",
    "    \n",
    "    M_cooccurrence = (H.T@H)\n",
    "    M_cooccurrence.setdiag(0)\n",
    "    M_cooccurrence.eliminate_zeros()\n",
    "    \n",
    "    vertexCooccurrence_vectorizer.cooccurrences_ = M_cooccurrence\n",
    "    \n",
    "    return(vertexCooccurrence_vectorizer)"
   ]
  },
  {
   "cell_type": "code",
   "execution_count": null,
   "id": "a323ef72",
   "metadata": {},
   "outputs": [],
   "source": [
    "%%time\n",
    "\n",
    "ingredient_vectorizer = vertexCooccurrenceVectorizer(recipes)\n",
    "ingredient_vectors = ingredient_vectorizer.reduce_dimension(dimension=60, algorithm=\"randomized\")\n",
    "n_ingredients = len(ingredient_vectorizer.token_index_dictionary_)\n",
    "ingredients = [ingredient_vectorizer.token_index_dictionary_[i] for i in range(n_ingredients)]"
   ]
  },
  {
   "cell_type": "markdown",
   "id": "b7547a13-ece3-4645-b14e-85a5d194a74e",
   "metadata": {},
   "source": [
    "# Build hyperedge (recipe) vectors\n",
    "\n",
    "In order to build hyperedge vectors, we will be treating each edge as a distribution over the vertex space. Instead of considering flat distributions of vertices contained in the hyperedges, we use a distribution given by the information weighted incidence matrix. In this incidence matrix, each vertex row gets multiplied by a weight: the information gain of the vertex' observed distribution over hyperedges\n",
    "$$P_v(e) = \\begin{cases}\n",
    "1/deg(v) &\\text{if $v \\in e$}\\\\\n",
    "0 &\\text{otherwise}\n",
    "\\end{cases}\n",
    "$$  compared to a baseline distribution based of hyperedge sizes $Q(e) = \\frac{|e|}{\\sum |e|}.$ The weights are computed as follows:\n",
    "\n",
    "$$\\mbox{Info}(v) = \\sum_e P_v(e) \\log\\big(\\frac{P_v(e)}{Q(e)}\\big).$$\n",
    "In the case of hyperedges, this will tend to give more weights to vertices that appear in smaller hyperedges and less weights to vertices that appear in all hyperedges.\n",
    "\n",
    "This is done in two steps: (1) construct the incidence matrix, (2) transform it into its information weighted version."
   ]
  },
  {
   "cell_type": "code",
   "execution_count": null,
   "id": "f11c8fcb-4b59-4663-b23c-f0aea99ac92c",
   "metadata": {},
   "outputs": [],
   "source": [
    "%%time\n",
    "incidence_vectorizer = vectorizers.NgramVectorizer(\n",
    "    token_dictionary=ingredient_vectorizer.token_label_dictionary_\n",
    ").fit(recipes)\n",
    "\n",
    "incidence_matrix = incidence_vectorizer.transform(recipes)"
   ]
  },
  {
   "cell_type": "code",
   "execution_count": null,
   "id": "7e199072",
   "metadata": {},
   "outputs": [],
   "source": [
    "%%time\n",
    "info_weighted_incidence = vectorizers.transformers.InformationWeightTransformer(\n",
    "    prior_strength=1e-1,\n",
    "    approx_prior=False,\n",
    ").fit_transform(incidence_matrix)"
   ]
  },
  {
   "cell_type": "markdown",
   "id": "3b9ac647-a841-469f-b8d8-060fcbb0cf48",
   "metadata": {},
   "source": [
    "# Joint embedding of vertices and hyperedges\n",
    "\n",
    "We now have a vector representation for each vertex, and we treat hyperedges as distribution over that space. We can also treat vertices themselves as distributions: a vertex is the Dirac Delta distribution having all mass on its itself (its associated vector).\n",
    "\n",
    "Now, both vertices and hyperedges are seen as distributions over a vector space. We can now use the Approximate Wasserstein vectorizer. This vectorizer transforms finite distributions over a metric space into vectors in a linear space such that euclidean or cosine distance approximates the Wasserstein distance between the distributions. \n",
    "\n",
    "This is done by representing the vertex distributions with the identity matrix on the vertices, and stacking the weighted incidence with this identity matrix. Then give this matrix of both hyperedge and node distributions to the vectorizer function along with the vertex vectors."
   ]
  },
  {
   "cell_type": "code",
   "execution_count": null,
   "id": "08ed488a-2d76-44cd-91cd-f49fb9c89851",
   "metadata": {},
   "outputs": [],
   "source": [
    "info_doc_with_identity = vstack([info_weighted_incidence, scipy.sparse.identity(n_ingredients)])"
   ]
  },
  {
   "cell_type": "code",
   "execution_count": null,
   "id": "a5486ddf-73ec-49c1-a299-e55837ef1ea3",
   "metadata": {},
   "outputs": [],
   "source": [
    "%%time\n",
    "joint_vectors_unsupervised = vectorizers.ApproximateWassersteinVectorizer(\n",
    "    normalization_power=0.25,\n",
    "    random_state=42,\n",
    ").fit_transform(info_doc_with_identity, vectors=ingredient_vectors)"
   ]
  },
  {
   "cell_type": "code",
   "execution_count": null,
   "id": "a49ec4e5-a492-4e00-b7e6-7bfe551c8295",
   "metadata": {},
   "outputs": [],
   "source": [
    "%%time\n",
    "joint_vectors_mapper = umap.UMAP(metric=\"cosine\", random_state=42).fit(joint_vectors_unsupervised)"
   ]
  },
  {
   "cell_type": "markdown",
   "id": "11b1ddb4-78e6-4278-948a-600b5a2a2ec2",
   "metadata": {},
   "source": [
    "# This not that : explore hypergraph"
   ]
  },
  {
   "cell_type": "markdown",
   "id": "9506f154-b558-474f-8486-4e215177579f",
   "metadata": {},
   "source": [
    "### Build dataframe that contains information about vertex and hyperedges"
   ]
  },
  {
   "cell_type": "code",
   "execution_count": null,
   "id": "a5648d75-b74e-439e-b9da-a9173b64706e",
   "metadata": {},
   "outputs": [],
   "source": [
    "recipe_metadata = pd.DataFrame()\n",
    "recipe_metadata['Country'] = [label_name.loc[i]['country'] for i in recipes_label_id.label] \n",
    "recipe_metadata['Label'] = [label_name.loc[i]['new_label'] for i in recipes_label_id.label]\n",
    "recipe_metadata['Ingredients'] = recipes \n",
    "recipe_metadata['Recipe_size'] = [len(x) for x in recipes] "
   ]
  },
  {
   "cell_type": "code",
   "execution_count": null,
   "id": "75148b3c-0ac7-4df6-ac18-3906039718ee",
   "metadata": {},
   "outputs": [],
   "source": [
    "recipe_metadata"
   ]
  },
  {
   "cell_type": "markdown",
   "id": "7ea82d77-c9eb-452e-b170-84d9727c4355",
   "metadata": {},
   "source": [
    "### Select the proper vectors to plot"
   ]
  },
  {
   "cell_type": "code",
   "execution_count": null,
   "id": "aa66c5eb-c1b9-4b3e-8ccf-a4c9a75a5f71",
   "metadata": {},
   "outputs": [],
   "source": [
    "# Just plot the recipes\n",
    "n_recipes = len(recipes)\n",
    "recipes_bool = np.array([True for i in range(n_recipes)] + [False for i in range(n_ingredients)])\n",
    "ingredients_bool = ~recipes_bool\n",
    "recipe_umap = joint_vectors_mapper.embedding_[recipes_bool]"
   ]
  },
  {
   "cell_type": "code",
   "execution_count": null,
   "id": "da9da612-2bf0-46a8-bf66-b74dc0f33b6f",
   "metadata": {},
   "outputs": [],
   "source": [
    "# Remove the ingredient from the color map as we are not plotting ingredient vectors\n",
    "color_mapping = color_key.copy()\n",
    "del color_mapping['ingredient']"
   ]
  },
  {
   "cell_type": "code",
   "execution_count": null,
   "id": "6450703f-333e-47a9-8041-12aa2725842a",
   "metadata": {},
   "outputs": [],
   "source": [
    "# Resize the hyperedge points in terms of the recipe size (this is not very useful in this case as all recipes are of similar sizes)\n",
    "sizes = [np.sqrt(len(x)) / 100 for x in recipes]"
   ]
  },
  {
   "cell_type": "markdown",
   "id": "2d86eeda-91cf-4bf1-9f7e-212e4d103afb",
   "metadata": {},
   "source": [
    "### Add a legend : legend"
   ]
  },
  {
   "cell_type": "code",
   "execution_count": null,
   "id": "d3a94477-bf09-4ea3-859b-6207632d9628",
   "metadata": {},
   "outputs": [],
   "source": [
    "legend = tnt.LegendWidget(\n",
    "    recipe_metadata.Label,\n",
    "    factors=list(color_mapping.keys()), \n",
    "    palette=list(color_mapping.values()), \n",
    "    palette_length=len(color_mapping),\n",
    "    color_picker_height=16,\n",
    "    color_picker_margin=[0,0],\n",
    "    label_height=30,\n",
    "    label_width=150,\n",
    "    name=\"Legend\",\n",
    "    selectable=True,\n",
    ")"
   ]
  },
  {
   "cell_type": "markdown",
   "id": "468ee505-2720-4b77-9875-cc781f3aef26",
   "metadata": {},
   "source": [
    "### Search capability : search_pane\n",
    "This will allow to search the dataframe rows and have the matching rows selected and displayed on the plot."
   ]
  },
  {
   "cell_type": "code",
   "execution_count": null,
   "id": "694a4061-dbd4-47fd-bee4-6586e842f2bb",
   "metadata": {},
   "outputs": [],
   "source": [
    "search_pane = tnt.SearchWidget(recipe_metadata, width=400, title=\"Advanced Search\")"
   ]
  },
  {
   "cell_type": "markdown",
   "id": "8ba9bb86-4133-4524-9678-fd8900ffc360",
   "metadata": {
    "tags": []
   },
   "source": [
    "### Summarize selection : count_summary\n",
    "Counts how many things we select"
   ]
  },
  {
   "cell_type": "code",
   "execution_count": null,
   "id": "a19fd890-36c1-4e02-be7d-411e0016f757",
   "metadata": {},
   "outputs": [],
   "source": [
    "from thisnotthat.summary.dataframe import JointLabelSummarizer, CountSelectedSummarizer\n",
    "count_summary = tnt.DataSummaryPane(CountSelectedSummarizer(),sizing_mode = \"stretch_width\")"
   ]
  },
  {
   "cell_type": "markdown",
   "id": "4fead8f3-fbd9-44e1-964e-19cf9522f0bc",
   "metadata": {},
   "source": [
    "### Summarize selection : count_summary\n",
    "First time we use the vertex vectors. This summarizer will give us the names of the closest vertex vectors to the centroid of a selection of hyperedges on the plot. This is only possible because the vertex and the hyperedges live in a common space. It will list the names along with a distance to the centroid point."
   ]
  },
  {
   "cell_type": "code",
   "execution_count": null,
   "id": "8748ed15-abf8-4ba2-bd0f-40a6ef4953cd",
   "metadata": {},
   "outputs": [],
   "source": [
    "word_summary = JointLabelSummarizer(joint_vectors_unsupervised[recipes_bool],\n",
    "                                    ingredients, \n",
    "                                    joint_vectors_unsupervised[ingredients_bool])\n",
    "vertex_summary_pane = tnt.DataSummaryPane(word_summary)"
   ]
  },
  {
   "cell_type": "markdown",
   "id": "804e0887-ed5c-4306-b7c4-fc4394222a94",
   "metadata": {},
   "source": [
    "### Information on click : info_pane\n",
    "We will display the ingredient list on click."
   ]
  },
  {
   "cell_type": "code",
   "execution_count": null,
   "id": "851716b5-bf6f-4585-a917-8639d5025062",
   "metadata": {},
   "outputs": [],
   "source": [
    "markdown_template = \"\"\"## Recipe from {Label}\n",
    "---\n",
    "#### Ingredients\n",
    "\n",
    "{Ingredients}\n",
    "\n",
    "---\n",
    "\"\"\""
   ]
  },
  {
   "cell_type": "code",
   "execution_count": null,
   "id": "4d664f2e-a4a4-44a6-92f1-3f4de4647748",
   "metadata": {},
   "outputs": [],
   "source": [
    "info_pane = tnt.InformationPane(recipe_metadata, markdown_template, width=400, height=750, sizing_mode=\"stretch_height\")"
   ]
  },
  {
   "cell_type": "code",
   "execution_count": null,
   "id": "b95d42fd-23a0-466e-94aa-195c8b0f1b50",
   "metadata": {},
   "outputs": [],
   "source": [
    "pn.extension()"
   ]
  },
  {
   "cell_type": "markdown",
   "id": "16b1e97c-855d-49c5-b5aa-38c1fe24c7e9",
   "metadata": {},
   "source": [
    "### Link everything to the plot"
   ]
  },
  {
   "cell_type": "code",
   "execution_count": null,
   "id": "1fb18d7b-d314-424a-a344-a67bd47a0c5b",
   "metadata": {},
   "outputs": [],
   "source": [
    "%%time\n",
    "bokeh_plot = tnt.BokehPlotPane(\n",
    "    recipe_umap,\n",
    "    labels=recipe_metadata.Label,\n",
    "    hover_text=recipe_metadata.Country,\n",
    "    legend_location='outside',\n",
    "    marker_size=sizes,\n",
    "    label_color_mapping=color_mapping,\n",
    "    show_legend=False,\n",
    "    min_point_size=0.001,\n",
    "    max_point_size=0.05,\n",
    "    title=\"What is cooking? Data Map\",\n",
    ")"
   ]
  },
  {
   "cell_type": "code",
   "execution_count": null,
   "id": "825005df-7ee0-4e0e-8759-8edfc07f38df",
   "metadata": {},
   "outputs": [],
   "source": [
    "count_summary.link_to_plot(bokeh_plot)\n",
    "vertex_summary_pane.link_to_plot(bokeh_plot)\n",
    "search_pane.link_to_plot(bokeh_plot)\n",
    "info_pane.link_to_plot(bokeh_plot)\n",
    "legend.link_to_plot(bokeh_plot)"
   ]
  },
  {
   "cell_type": "code",
   "execution_count": null,
   "id": "735624a9-c31f-467d-b3e0-19cdb8b3fb93",
   "metadata": {},
   "outputs": [],
   "source": [
    "pn.Row(bokeh_plot, \n",
    "       legend,\n",
    "pn.Tabs(\n",
    "        pn.Column(count_summary, vertex_summary_pane, name='Selection'),\n",
    "        search_pane,\n",
    "        info_pane\n",
    "    )\n",
    ")"
   ]
  },
  {
   "cell_type": "markdown",
   "id": "ab6f8274-d839-4c6f-a025-bbccd41a8629",
   "metadata": {},
   "source": [
    "# Add automatic labels\n",
    "\n",
    "This part is very interesting! We have now a way to plot recipes, filter them by country, search and interact with the data this way. However, in a real unsuppervised application, the labels (the countries) would not be known. We would want to explore the recipe space and see how things organize only based on ingredient names and recipes, only on vertex name and hyperedges. \n",
    "\n",
    "We have ingredients -vertex- vectors but we have not used them yet. The JointVectorLabelLayers uses the vertex names to inform and help understand the hypergraph. It builds hierarchical clusters of the hyperedges - so clusters that are displayed at various resolutions. Since hyperedge vectors jointly live with vertex vectors, for each cluster, it identifies the vertex vectors that are the closest to its centroid. The automatic labelling will display those vertex names on top of the hyperedge clusters in the plot.   "
   ]
  },
  {
   "cell_type": "code",
   "execution_count": null,
   "id": "aee8d693-a2c7-4621-a1f7-ebbb1394d0f3",
   "metadata": {},
   "outputs": [],
   "source": [
    "label_layers =  tnt.JointVectorLabelLayers(\n",
    "    joint_vectors_unsupervised[recipes_bool],      # high dim edge embedding\n",
    "    recipe_umap,                                   # 2-d edge embedding\n",
    "    joint_vectors_unsupervised[ingredients_bool],  # high dim vertex embedding\n",
    "    incidence_vectorizer.column_index_dictionary_, # vertex name\n",
    "    cluster_map_representation=True,\n",
    "    min_clusters_in_layer=5,\n",
    "    random_state=0,\n",
    ")"
   ]
  },
  {
   "cell_type": "code",
   "execution_count": null,
   "id": "c9866456-1188-4879-8f3a-6c3cbf5679da",
   "metadata": {},
   "outputs": [],
   "source": [
    "annotated_plot = tnt.BokehPlotPane(\n",
    "    recipe_umap,\n",
    "    labels=recipe_metadata.Label,\n",
    "    hover_text=recipe_metadata.Country,\n",
    "    marker_size=sizes,\n",
    "    label_color_mapping=color_mapping,\n",
    "    width=700,\n",
    "    height=600,\n",
    "    show_legend=False,\n",
    "    min_point_size=0.001,\n",
    "    max_point_size=0.05,\n",
    "    tools=\"pan,wheel_zoom,tap,lasso_select,box_zoom,save,reset\",\n",
    "    title=\"What is cooking? Data Map\",\n",
    ")\n",
    "annotated_plot.add_cluster_labels(label_layers, max_text_size=24)"
   ]
  },
  {
   "cell_type": "code",
   "execution_count": null,
   "id": "379baf0b-a867-4ea3-a589-9b7f1a1a0ffe",
   "metadata": {},
   "outputs": [],
   "source": [
    "count_summary.link_to_plot(annotated_plot)\n",
    "vertex_summary_pane.link_to_plot(annotated_plot)\n",
    "search_pane.link_to_plot(annotated_plot)\n",
    "info_pane.link_to_plot(annotated_plot)\n",
    "legend.link_to_plot(annotated_plot)"
   ]
  },
  {
   "cell_type": "code",
   "execution_count": null,
   "id": "bfd6a491-8077-40be-8753-84f312592935",
   "metadata": {},
   "outputs": [],
   "source": [
    "pn.Row(annotated_plot, \n",
    "       legend,\n",
    "pn.Tabs(\n",
    "        pn.Column(count_summary, vertex_summary_pane, name='Selection'),\n",
    "        search_pane,\n",
    "        info_pane\n",
    "    )\n",
    ")"
   ]
  },
  {
   "cell_type": "code",
   "execution_count": null,
   "id": "55a1ce89-086b-425e-b7f2-c32f57c056ff",
   "metadata": {},
   "outputs": [],
   "source": []
  }
 ],
 "metadata": {
  "kernelspec": {
   "display_name": "hypergraph_simple",
   "language": "python",
   "name": "hypergraph_simple"
  },
  "language_info": {
   "codemirror_mode": {
    "name": "ipython",
    "version": 3
   },
   "file_extension": ".py",
   "mimetype": "text/x-python",
   "name": "python",
   "nbconvert_exporter": "python",
   "pygments_lexer": "ipython3",
   "version": "3.10.11"
  }
 },
 "nbformat": 4,
 "nbformat_minor": 5
}
